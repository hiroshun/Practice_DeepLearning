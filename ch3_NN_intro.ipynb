{
 "cells": [
  {
   "cell_type": "markdown",
   "metadata": {
    "heading_collapsed": true
   },
   "source": [
    "# Ch3. Neural Network Introduction\n",
    "パーセプトロンのような、入力信号を受け取って出力信号を出すものを複数層にわたって繋げていくことによってニューラルネットワークができる\n",
    "\n",
    "---"
   ]
  },
  {
   "cell_type": "markdown",
   "metadata": {
    "heading_collapsed": true,
    "hidden": true
   },
   "source": [
    "## 活性化関数\n",
    "### ステップ関数"
   ]
  },
  {
   "cell_type": "markdown",
   "metadata": {
    "hidden": true
   },
   "source": [
    "パーセプトロンで用いた式\n",
    "\n",
    "\\begin{equation}y= \\left \\{\\begin{array}{l}0& (b+w_1x_1+w_2x_2\\leqq0) \\\\1& (b+w_1x_1+w_2x_2>0) \\\\\\end{array}\\right.\\end{equation}\n",
    "\n",
    "場合分けの部分を関数$h(x)$で置き換える\n",
    "\n",
    "\\begin{equation}y=h(b+w_1x_1+w_2x_2)\\end{equation}\n",
    "\n",
    "\\begin{equation}h(x)= \\left \\{\\begin{array}{l}0& (x\\leqq0) \\\\1& (x>0) \\\\\\end{array}\\right.\\end{equation}\n",
    "\n",
    "$h(x)$は__活性化関数__(activation function)と呼ばれる．\n",
    "\n",
    "ここで，パーセプトロンの図を描きかえる．\n",
    "\n",
    "<img src=\"image\\simple neuron.jpg\" width=\"200\" alt=\"simple neuron\"/>\n",
    "\n",
    "バイアス$b$も信号1を重みづけしたものであると考えることができる．  \n",
    "重みづけされた入力信号の合計を$a$とすることで活性化関数を図示することができる．"
   ]
  },
  {
   "cell_type": "markdown",
   "metadata": {
    "hidden": true
   },
   "source": [
    "今まで用いたこの活性化関数はステップ関数と呼ばれる．\n",
    "\n",
    "\\begin{equation}h(x)= \\left \\{\\begin{array}{l}0& (x\\leqq0) \\\\1& (x>0) \\\\\\end{array}\\right.\\end{equation}"
   ]
  },
  {
   "cell_type": "code",
   "execution_count": 1,
   "metadata": {
    "hidden": true
   },
   "outputs": [],
   "source": [
    "import numpy as np\n",
    "\n",
    "def step(x):    #numpy配列を受け取る\n",
    "    return np.array(x > 0, dtype=np.int)    #bool型をint型に変換"
   ]
  },
  {
   "cell_type": "code",
   "execution_count": 2,
   "metadata": {
    "hidden": true
   },
   "outputs": [
    {
     "data": {
      "text/plain": [
       "array([0, 1, 1])"
      ]
     },
     "execution_count": 2,
     "metadata": {},
     "output_type": "execute_result"
    }
   ],
   "source": [
    "x = np.array([-1, 1, 2])\n",
    "step(x)"
   ]
  },
  {
   "cell_type": "markdown",
   "metadata": {
    "heading_collapsed": true,
    "hidden": true
   },
   "source": [
    "### シグモイド関数"
   ]
  },
  {
   "cell_type": "markdown",
   "metadata": {
    "hidden": true
   },
   "source": [
    "ニューラルネットワークでよく使われる活性化関数として__シグモイド関数__(sigmoid function)がある．\n",
    "\n",
    "\\begin{equation}h(x)= \\frac{1}{1+e^{-x}} \\end{equation}"
   ]
  },
  {
   "cell_type": "code",
   "execution_count": 3,
   "metadata": {
    "hidden": true
   },
   "outputs": [],
   "source": [
    "def sigmoid(x):\n",
    "    return 1 / (1 + np.exp(-x))"
   ]
  },
  {
   "cell_type": "code",
   "execution_count": 4,
   "metadata": {
    "hidden": true
   },
   "outputs": [
    {
     "data": {
      "text/plain": [
       "array([0.26894142, 0.73105858, 0.88079708])"
      ]
     },
     "execution_count": 4,
     "metadata": {},
     "output_type": "execute_result"
    }
   ],
   "source": [
    "sigmoid(x)"
   ]
  },
  {
   "cell_type": "markdown",
   "metadata": {
    "hidden": true
   },
   "source": [
    "これらの関数をグラフ化する"
   ]
  },
  {
   "cell_type": "code",
   "execution_count": 5,
   "metadata": {
    "hidden": true
   },
   "outputs": [
    {
     "data": {
      "text/plain": [
       "<matplotlib.figure.Figure at 0x7fa64c7835c0>"
      ]
     },
     "metadata": {},
     "output_type": "display_data"
    }
   ],
   "source": [
    "import matplotlib.pyplot as plt\n",
    "\n",
    "x = np.arange(-5.0, 5.0, 0.1)    #-5から5の間を0.1刻みでNumPy配列を生成\n",
    "y_stp = step(x)\n",
    "y_sig = sigmoid(x)\n",
    "\n",
    "plt.plot(x, y_stp, label = \"step function\")\n",
    "plt.plot(x, y_sig, label = \"sigmoid function\")\n",
    "plt.xlabel(\"x\")\n",
    "plt.ylabel(\"y\")\n",
    "plt.ylim(-0.1, 1.1)    #y軸の範囲\n",
    "plt.legend(loc = \"lower right\")\n",
    "plt.show()"
   ]
  },
  {
   "cell_type": "markdown",
   "metadata": {
    "hidden": true
   },
   "source": [
    "ステップ関数の値は離散的であるのに対し．シグモイド関数の値は連続的であり，なめらかな曲線を描く．  "
   ]
  },
  {
   "cell_type": "markdown",
   "metadata": {
    "heading_collapsed": true,
    "hidden": true
   },
   "source": [
    "### ReLU関数"
   ]
  },
  {
   "cell_type": "markdown",
   "metadata": {
    "hidden": true
   },
   "source": [
    "また，最近ではReLU(Rectified Linear Unit)という関数が用いられている．\n",
    "\n",
    "\\begin{equation}h(x)= \\left \\{\\begin{array}{l}x& (x>0) \\\\0& (x\\leqq0) \\\\\\end{array}\\right.\\end{equation}"
   ]
  },
  {
   "cell_type": "code",
   "execution_count": 6,
   "metadata": {
    "hidden": true
   },
   "outputs": [
    {
     "data": {
      "image/png": "[encoded data removed]",
      "text/plain": [
       "<matplotlib.figure.Figure at 0x7fa64c783518>"
      ]
     },
     "metadata": {},
     "output_type": "display_data"
    }
   ],
   "source": [
    "def relu_function(x):\n",
    "    return np.maximum(0, x)\n",
    "\n",
    "x = np.arange(-5.0, 5.0, 0.1)    #-5から5の間を0.1刻みでNumPy配列を生成\n",
    "y = relu_function(x)\n",
    "\n",
    "plt.plot(x, y, label = \"ReLU function\")\n",
    "plt.xlabel(\"x\")\n",
    "plt.ylabel(\"y\")\n",
    "plt.ylim(-1.0, 5.5)    #y軸の範囲\n",
    "plt.legend(loc = \"lower right\")\n",
    "plt.show()"
   ]
  },
  {
   "cell_type": "markdown",
   "metadata": {
    "heading_collapsed": true,
    "hidden": true
   },
   "source": [
    "## 3層ニューラルネットワークの実装"
   ]
  },
  {
   "cell_type": "markdown",
   "metadata": {
    "hidden": true
   },
   "source": [
    "次のニューラルネットワークを考える．\n",
    "\n",
    "<img src=\"image\\3-layer nn1.jpg\" width=\"400\" alt=\"3-layer nn1\"/>\n",
    "\n",
    "1層目の1番目のニューロンから考えていく．\n",
    "\n",
    "<img src=\"image\\3-layer nn2.jpg\" width=\"400\" alt=\"3-layer nn2\"/>\n",
    "\n",
    "バイアスのためのニューロン$b$を追加した．  \n",
    "記号$w_{pq}^{(n)}$は，$p$番目のニューロンに$q$番目のニューロンから伸びる$n$層目の重みを表し，$b_p^{(n)}$は，$p$番目のニューロンに伸びる$n$層目のバイアスを表す．\n",
    "\n",
    "\\begin{equation}a_1^{(1)}=w_{11}^{(1)}x_1+w_{12}^{(1)}x_2+b_1^{(1)}\\end{equation}\n",
    "\n",
    "が成り立つが，ここで$a,x,b,w$を行列として考える．\n",
    "\n",
    "\\begin{equation}\n",
    "A^{(1)} = \\left(\n",
    "    \\begin{array}{ccc}\n",
    "      a_1^{(1)} & a_2^{(1)} & a_3^{(1)}\n",
    "    \\end{array}\n",
    "  \\right),\\ \n",
    "X = \\left(\n",
    "    \\begin{array}{ccc}\n",
    "      x_1 & y_2\n",
    "    \\end{array}\n",
    "\\right),\\ \n",
    "B^{(1)} = \\left(\n",
    "    \\begin{array}{ccc}\n",
    "      b_1^{(1)} & b_2^{(1)} & b_3^{(1)}\n",
    "    \\end{array}\n",
    "\\right),\\ \n",
    "W^{(1)} = \\left(\n",
    "    \\begin{array}{ccc}\n",
    "      w_{11}^{(1)} & w_{21}^{(1)} & w_{31}^{(1)} \\\\\n",
    "      w_{12}^{(1)} & w_{22}^{(1)} & w_{32}^{(1)}\n",
    "    \\end{array}\n",
    "  \\right)\n",
    "\\end{equation}\n",
    "\n",
    "次の層への信号の伝達は行列の内積で計算することができる．\n",
    "\n",
    "\\begin{equation} A^{(1)}=XW^{(1)}+B^{(1)} \\end{equation}"
   ]
  },
  {
   "cell_type": "code",
   "execution_count": 7,
   "metadata": {
    "hidden": true
   },
   "outputs": [],
   "source": [
    "X = np.array([1.0, 0.5])\n",
    "W1 = np.array([[0.1, 0.3, 0.5], [0.2, 0.4, 0.6]])\n",
    "B1 = np.array([0.1, 0.2, 0.3])\n",
    "\n",
    "A1 = np.dot(X, W1) + B1"
   ]
  },
  {
   "cell_type": "markdown",
   "metadata": {
    "hidden": true
   },
   "source": [
    "続いて，活性化関数によるプロセスを考える．ここではシグモイド関数を使う．\n",
    "\n",
    "<img src=\"image\\3-layer nn3.jpg\" width=\"400\" alt=\"3-layer nn3\"/>"
   ]
  },
  {
   "cell_type": "code",
   "execution_count": 8,
   "metadata": {
    "hidden": true
   },
   "outputs": [],
   "source": [
    "Z1 = sigmoid(A1)"
   ]
  },
  {
   "cell_type": "code",
   "execution_count": 9,
   "metadata": {
    "hidden": true
   },
   "outputs": [
    {
     "name": "stdout",
     "output_type": "stream",
     "text": [
      "[0.3 0.7 1.1]\n"
     ]
    }
   ],
   "source": [
    "print(A1)"
   ]
  },
  {
   "cell_type": "code",
   "execution_count": 10,
   "metadata": {
    "hidden": true
   },
   "outputs": [
    {
     "name": "stdout",
     "output_type": "stream",
     "text": [
      "[0.57444252 0.66818777 0.75026011]\n"
     ]
    }
   ],
   "source": [
    "print(Z1)"
   ]
  },
  {
   "cell_type": "markdown",
   "metadata": {
    "hidden": true
   },
   "source": [
    "第2層，第3層についても同様に行う．\n",
    "\n",
    "<img src=\"image\\3-layer nn4.jpg\" width=\"450\" alt=\"3-layer nn4\"/>"
   ]
  },
  {
   "cell_type": "code",
   "execution_count": 11,
   "metadata": {
    "hidden": true
   },
   "outputs": [],
   "source": [
    "W2 = np.array([[0.1, 0.4], [0.2, 0.5], [0.3, 0.6]])\n",
    "B2 = np.array([0.1, 0.2])\n",
    "\n",
    "A2 = np.dot(Z1, W2) + B2\n",
    "Z2 = sigmoid(A2)\n",
    "\n",
    "W3 = np.array([[0.1, 0.3], [0.2, 0.4]])\n",
    "B3 = np.array([0.1, 0.2])\n",
    "\n",
    "A3 = np.dot(Z2, W3) + B3"
   ]
  },
  {
   "cell_type": "markdown",
   "metadata": {
    "hidden": true
   },
   "source": [
    "最後に出力層を活性化関数にかける．ここでは，入力をそのまま出力する**恒等関数(identify function)**を用いる．\n",
    "\n",
    "<img src=\"image\\3-layer nn5.jpg\" width=\"450\" alt=\"3-layer nn5\"/>"
   ]
  },
  {
   "cell_type": "code",
   "execution_count": 12,
   "metadata": {
    "hidden": true
   },
   "outputs": [
    {
     "name": "stdout",
     "output_type": "stream",
     "text": [
      "[0.31682708 0.69627909]\n"
     ]
    }
   ],
   "source": [
    "def identify_function(x):\n",
    "    return x\n",
    "\n",
    "Y = identify_function(A3)\n",
    "\n",
    "print(Y)"
   ]
  },
  {
   "cell_type": "markdown",
   "metadata": {
    "heading_collapsed": true,
    "hidden": true
   },
   "source": [
    "## まとめ"
   ]
  },
  {
   "cell_type": "markdown",
   "metadata": {
    "hidden": true
   },
   "source": [
    "ここまでの実装を一つのコードにまとめる"
   ]
  },
  {
   "cell_type": "code",
   "execution_count": 13,
   "metadata": {
    "hidden": true
   },
   "outputs": [
    {
     "name": "stdout",
     "output_type": "stream",
     "text": [
      "[0.31682708 0.69627909]\n"
     ]
    }
   ],
   "source": [
    "def init_network():    #重み，バイアスをディクショナリ型として初期化\n",
    "    network = {}\n",
    "    network['W1'] = np.array([[0.1, 0.3, 0.5], [0.2, 0.4, 0.6]])\n",
    "    network['b1'] = np.array([0.1, 0.2, 0.3])\n",
    "    network['W2'] = np.array([[0.1, 0.4], [0.2, 0.5], [0.3, 0.6]])\n",
    "    network['b2'] = np.array([0.1, 0.2])\n",
    "    network['W3'] = np.array([[0.1, 0.3], [0.2, 0.4]])\n",
    "    network['b3'] = np.array([0.1, 0.2])\n",
    "    \n",
    "    return network\n",
    "\n",
    "def forward(network, x):    #ニューラルネットワーク内の伝達処理\n",
    "    W1, W2, W3 = network['W1'], network['W2'], network['W3']\n",
    "    b1, b2, b3 = network['b1'], network['b2'], network['b3']\n",
    "    \n",
    "    a1 = np.dot(x, W1) + b1\n",
    "    z1 = sigmoid(a1)\n",
    "    a2 = np.dot(z1, W2) + b2\n",
    "    z2 = sigmoid(a2)\n",
    "    a3 = np.dot(z2, W3) + b3\n",
    "    y = identify_function(a3)\n",
    "    \n",
    "    return y\n",
    "\n",
    "network = init_network()    #ネットワークを指定\n",
    "x = np.array([1.0, 0.5])    #入力値を指定\n",
    "y = forward(network, x)    #伝達処理\n",
    "print(y)    #出力"
   ]
  },
  {
   "cell_type": "markdown",
   "metadata": {
    "heading_collapsed": true,
    "hidden": true
   },
   "source": [
    "## 出力層の設計"
   ]
  },
  {
   "cell_type": "markdown",
   "metadata": {
    "hidden": true
   },
   "source": [
    "出力層の活性化関数は，回帰問題では恒等関数を，分類問題ではソフトマックス関数を用いる．\n",
    "- 回帰問題(regression probrem)…連続値を予測(ex.株価指数に基づいた株価の予測)\n",
    "- 分類問題(classification probrem)…離散値を予測(ex.画像による性別の分類)\n",
    "\n",
    "恒等関数は入力値をそのまま返すだけである．\n",
    "ソフトマックス関数は次の式で表される．\n",
    "\n",
    "\\begin{equation}\n",
    "y_k=\\frac{\\exp(a_k)}{\\displaystyle \\sum^n_{i=1}\\exp(a_i)}\n",
    "\\end{equation}\n",
    "\n",
    "出力の各ニューロンが出力層のすべての入力信号から影響を受ける．"
   ]
  },
  {
   "cell_type": "code",
   "execution_count": 14,
   "metadata": {
    "hidden": true
   },
   "outputs": [],
   "source": [
    "def softmax(a):    #np.arrayを受け取る\n",
    "    exp_a = np.exp(a)    #各要素に関して指数関数に入れる\n",
    "    sum_exp_a = np.sum(exp_a)\n",
    "    y = exp_a / sum_exp_a\n",
    "    \n",
    "    return y"
   ]
  },
  {
   "cell_type": "markdown",
   "metadata": {
    "hidden": true
   },
   "source": [
    "しかし，要素の値が大きいと簡単にオーバーフローする"
   ]
  },
  {
   "cell_type": "code",
   "execution_count": 15,
   "metadata": {
    "hidden": true
   },
   "outputs": [
    {
     "name": "stderr",
     "output_type": "stream",
     "text": [
      "/usr/local/lib/python3.6/site-packages/ipykernel_launcher.py:2: RuntimeWarning: overflow encountered in exp\n",
      "  \n",
      "/usr/local/lib/python3.6/site-packages/ipykernel_launcher.py:4: RuntimeWarning: invalid value encountered in true_divide\n",
      "  after removing the cwd from sys.path.\n"
     ]
    },
    {
     "data": {
      "text/plain": [
       "array([nan, nan, nan])"
      ]
     },
     "execution_count": 15,
     "metadata": {},
     "output_type": "execute_result"
    }
   ],
   "source": [
    "# Warningが出る\n",
    "a = np.array([1010, 1000, 990])\n",
    "softmax(a)"
   ]
  },
  {
   "cell_type": "markdown",
   "metadata": {
    "hidden": true
   },
   "source": [
    "これは、ソフトマックス関数の式変形により改善することができる．\n",
    "\n",
    "\\begin{eqnarray*}\n",
    "y_k=\\frac{\\exp(a_k)}{\\displaystyle \\sum^n_{i=1}\\exp(a_i)}&=&\\frac{C\\exp(a_k)}{C\\displaystyle \\sum^n_{i=1}\\exp(a_i)}\\\\\n",
    "&=&\\frac{\\exp(a_k+\\log C)}{\\displaystyle \\sum^n_{i=1}\\exp(a_i+\\log C)}\\\\\n",
    "&=&\\frac{\\exp(a_k+C')}{\\displaystyle \\sum^n_{i=1}\\exp(a_i+C')}\n",
    "\\end{eqnarray*}\n",
    "\n",
    "上記の式より，指数関数内で任意の定数$C'$を加えても結果は変わらないことになる．  \n",
    "そこで，$C'=-{\\rm max}(a)$とすることでオーバーフローの発生を減らすことができる．"
   ]
  },
  {
   "cell_type": "code",
   "execution_count": 16,
   "metadata": {
    "hidden": true
   },
   "outputs": [],
   "source": [
    "def softmax(a):    #np.arrayを受け取る\n",
    "    c = np.max(a)\n",
    "    exp_a = np.exp(a - c)    #各要素に関して指数関数に入れる\n",
    "    sum_exp_a = np.sum(exp_a)\n",
    "    y = exp_a / sum_exp_a\n",
    "    \n",
    "    return y"
   ]
  },
  {
   "cell_type": "code",
   "execution_count": 17,
   "metadata": {
    "hidden": true
   },
   "outputs": [
    {
     "name": "stdout",
     "output_type": "stream",
     "text": [
      "[9.99954600e-01 4.53978686e-05 2.06106005e-09]\n"
     ]
    }
   ],
   "source": [
    "a = np.array([1010, 1000, 990])\n",
    "y = softmax(a)\n",
    "print(y)"
   ]
  },
  {
   "cell_type": "code",
   "execution_count": 18,
   "metadata": {
    "hidden": true
   },
   "outputs": [
    {
     "data": {
      "text/plain": [
       "1.0"
      ]
     },
     "execution_count": 18,
     "metadata": {},
     "output_type": "execute_result"
    }
   ],
   "source": [
    "np.sum(y)"
   ]
  },
  {
   "cell_type": "markdown",
   "metadata": {
    "hidden": true
   },
   "source": [
    "ソフトマックス関数の出力は0から1.0の間をとる．また，出力の総和は1となる．つまり，出力の各要素を確率としてとらえることができる．\n",
    "しかし，ソフトマックス関数を適用しても各要素の大小関係は変わらないため，学習フェーズでは確率を求めるのに有効であるが，推論フェーズでは計算量が多いため省略されるのが一般的である．"
   ]
  },
  {
   "cell_type": "code",
   "execution_count": 19,
   "metadata": {
    "hidden": true
   },
   "outputs": [
    {
     "name": "stdout",
     "output_type": "stream",
     "text": [
      "(60000, 784)\n",
      "(60000,)\n",
      "(10000, 784)\n",
      "(10000,)\n"
     ]
    }
   ],
   "source": [
    "import sys, os\n",
    "sys.path.append('sample')    #sampleフォルダを追加\n",
    "from dataset.mnist import load_mnist\n",
    "\n",
    "(x_train, t_train), (x_test, t_test) = load_mnist(flatten=True, normalize=False)\n",
    "\n",
    "print(x_train.shape)\n",
    "print(t_train.shape)\n",
    "print(x_test.shape)\n",
    "print(t_test.shape)"
   ]
  },
  {
   "cell_type": "markdown",
   "metadata": {},
   "source": [
    "# MNIST dataset\n",
    "MNISTのデータは、手書きで書かれた数字を画像にした画像データ(image)と、その画像に書かれた数字を表すラベルデータ(label)から構成される。  \n",
    "(学習済みのパラメータによる推論処理は省略)"
   ]
  },
  {
   "cell_type": "code",
   "execution_count": 20,
   "metadata": {},
   "outputs": [
    {
     "name": "stdout",
     "output_type": "stream",
     "text": [
      "(60000, 784)\n",
      "(60000,)\n",
      "(10000, 784)\n",
      "(10000,)\n"
     ]
    }
   ],
   "source": [
    "from dataset.mnist import load_mnist  #MNISTデータセットを読み込む関数\n",
    "\n",
    "(x_train, t_train), (x_test, t_test) = load_mnist(flatten=True, normalize=False)\n",
    "#load_mnist関数  (訓練画像, 訓練ラベル), (テスト画像, テストラベル) を返す\n",
    "#引数 normalize:0.0～1.0に正規化 flatten:1次元配列にする one_hot_label:one-hot表現として格納\n",
    "\n",
    "print(x_train.shape)\n",
    "print(t_train.shape)\n",
    "print(x_test.shape)\n",
    "print(t_test.shape)"
   ]
  },
  {
   "cell_type": "markdown",
   "metadata": {},
   "source": [
    "上のコードにより，MNISTデータセットを読み込んだ．  \n",
    "出力結果は，各画像は$28\\times28=784$の要素を持つ情報から成り，訓練画像は60000枚，テスト画像は10000枚あることを示す．"
   ]
  },
  {
   "cell_type": "code",
   "execution_count": 25,
   "metadata": {
    "scrolled": true
   },
   "outputs": [
    {
     "data": {
      "image/png": "[encoded data removed]",
      "text/plain": [
       "<matplotlib.figure.Figure at 0x7fa63988a710>"
      ]
     },
     "metadata": {
      "image/png": {
       "height": 277,
       "width": 1133
      }
     },
     "output_type": "display_data"
    }
   ],
   "source": [
    "import numpy as np\n",
    "from matplotlib import pyplot as plt\n",
    "from matplotlib import cm\n",
    "from PIL import Image\n",
    "%matplotlib inline\n",
    "%config InlineBackend.figure_format = 'retina'\n",
    "\n",
    "plt.subplots(2,10,figsize=(20, 5))    #2×10枚の画像を20×5のキャンバス内に展開\n",
    "\n",
    "for i in range(20):\n",
    "    img_index = np.random.randint(x_test.shape[0])\n",
    "    img = x_test[img_index]    #imgに各画像が入る\n",
    "    label = t_test[img_index]\n",
    "    plt.subplot(2, 10, i + 1)\n",
    "    plt.tick_params(which='both',labelleft='off', labelbottom='off')    #軸の数字を消す\n",
    "    plt.xlabel(\"label: \" + str(label), fontsize=15)    #ラベルを図の下に表示\n",
    "    #plt.title(\"label: \" + str(label))    #ラベルを表示\n",
    "    img = img.reshape(28, 28)    #1次元配列を2次元配列に直す\n",
    "    plt.imshow(img, cmap = cm.Greys)    #白黒画像で表示"
   ]
  },
  {
   "cell_type": "markdown",
   "metadata": {},
   "source": [
    "MNISTの画像の一部を表示した．このデータセットには手書き数字の画像とその答えを示すラベルが入っている．\n",
    "\n",
    "今回は用意されたニューラルネットワークを用いて，認識精度を計測していく．"
   ]
  },
  {
   "cell_type": "code",
   "execution_count": 22,
   "metadata": {},
   "outputs": [],
   "source": [
    "import pickle\n",
    "\n",
    "def get_data():    #画像，ラベル読み込み\n",
    "    (x_train, t_train), (x_test, t_test) = load_mnist(normalize=True, flatten=True, one_hot_label=False)\n",
    "    return x_test, t_test\n",
    "\n",
    "def init_network():    #用意されたニューラルネットワークを読み込む\n",
    "    with open(\"sample\\sample_weight.pkl\", 'rb') as f:\n",
    "        network = pickle.load(f)\n",
    "    return network\n",
    "\n",
    "def predict(network, x):\n",
    "    W1, W2, W3 = network['W1'], network['W2'], network['W3']    #3層ニューラルネットワーク\n",
    "    b1, b2, b3 = network['b1'], network['b2'], network['b3']\n",
    "    \n",
    "    a1 = np.dot(x, W1) + b1\n",
    "    z1 = sigmoid(a1)\n",
    "    a2 = np.dot(z1, W2) + b2\n",
    "    z2 = sigmoid(a2)\n",
    "    a3 = np.dot(z2, W3) + b3\n",
    "    y = softmax(a3)\n",
    "    \n",
    "    return y"
   ]
  },
  {
   "cell_type": "markdown",
   "metadata": {},
   "source": [
    "一枚の画像について分類を行い，各数字である確率を棒グラフで表示する．"
   ]
  },
  {
   "cell_type": "code",
   "execution_count": 23,
   "metadata": {},
   "outputs": [
    {
     "ename": "FileNotFoundError",
     "evalue": "[Errno 2] No such file or directory: 'sample\\\\sample_weight.pkl'",
     "output_type": "error",
     "traceback": [
      "\u001b[0;31m---------------------------------------------------------------------------\u001b[0m",
      "\u001b[0;31mFileNotFoundError\u001b[0m                         Traceback (most recent call last)",
      "\u001b[0;32m<ipython-input-23-f25157d990e6>\u001b[0m in \u001b[0;36m<module>\u001b[0;34m()\u001b[0m\n\u001b[1;32m      1\u001b[0m \u001b[0mx\u001b[0m\u001b[0;34m,\u001b[0m \u001b[0mt\u001b[0m \u001b[0;34m=\u001b[0m \u001b[0mget_data\u001b[0m\u001b[0;34m(\u001b[0m\u001b[0;34m)\u001b[0m\u001b[0;34m\u001b[0m\u001b[0m\n\u001b[0;32m----> 2\u001b[0;31m \u001b[0mnetwork\u001b[0m \u001b[0;34m=\u001b[0m \u001b[0minit_network\u001b[0m\u001b[0;34m(\u001b[0m\u001b[0;34m)\u001b[0m\u001b[0;34m\u001b[0m\u001b[0m\n\u001b[0m\u001b[1;32m      3\u001b[0m \u001b[0;34m\u001b[0m\u001b[0m\n\u001b[1;32m      4\u001b[0m \u001b[0mimg\u001b[0m \u001b[0;34m=\u001b[0m \u001b[0mx\u001b[0m\u001b[0;34m[\u001b[0m\u001b[0;36m4\u001b[0m\u001b[0;34m]\u001b[0m    \u001b[0;31m#5枚目の画像を指定\u001b[0m\u001b[0;34m\u001b[0m\u001b[0m\n\u001b[1;32m      5\u001b[0m \u001b[0mlabel\u001b[0m \u001b[0;34m=\u001b[0m \u001b[0mt\u001b[0m\u001b[0;34m[\u001b[0m\u001b[0;36m4\u001b[0m\u001b[0;34m]\u001b[0m\u001b[0;34m\u001b[0m\u001b[0m\n",
      "\u001b[0;32m<ipython-input-22-98db3804fc0e>\u001b[0m in \u001b[0;36minit_network\u001b[0;34m()\u001b[0m\n\u001b[1;32m      6\u001b[0m \u001b[0;34m\u001b[0m\u001b[0m\n\u001b[1;32m      7\u001b[0m \u001b[0;32mdef\u001b[0m \u001b[0minit_network\u001b[0m\u001b[0;34m(\u001b[0m\u001b[0;34m)\u001b[0m\u001b[0;34m:\u001b[0m    \u001b[0;31m#用意されたニューラルネットワークを読み込む\u001b[0m\u001b[0;34m\u001b[0m\u001b[0m\n\u001b[0;32m----> 8\u001b[0;31m     \u001b[0;32mwith\u001b[0m \u001b[0mopen\u001b[0m\u001b[0;34m(\u001b[0m\u001b[0;34m\"sample\\sample_weight.pkl\"\u001b[0m\u001b[0;34m,\u001b[0m \u001b[0;34m'rb'\u001b[0m\u001b[0;34m)\u001b[0m \u001b[0;32mas\u001b[0m \u001b[0mf\u001b[0m\u001b[0;34m:\u001b[0m\u001b[0;34m\u001b[0m\u001b[0m\n\u001b[0m\u001b[1;32m      9\u001b[0m         \u001b[0mnetwork\u001b[0m \u001b[0;34m=\u001b[0m \u001b[0mpickle\u001b[0m\u001b[0;34m.\u001b[0m\u001b[0mload\u001b[0m\u001b[0;34m(\u001b[0m\u001b[0mf\u001b[0m\u001b[0;34m)\u001b[0m\u001b[0;34m\u001b[0m\u001b[0m\n\u001b[1;32m     10\u001b[0m     \u001b[0;32mreturn\u001b[0m \u001b[0mnetwork\u001b[0m\u001b[0;34m\u001b[0m\u001b[0m\n",
      "\u001b[0;31mFileNotFoundError\u001b[0m: [Errno 2] No such file or directory: 'sample\\\\sample_weight.pkl'"
     ]
    }
   ],
   "source": [
    "x, t = get_data()\n",
    "network = init_network()\n",
    "\n",
    "img = x[4]    #5枚目の画像を指定\n",
    "label = t[4]\n",
    "\n",
    "y = predict(network, img)    #分類を実行\n",
    "\n",
    "plt.subplots(1,2,figsize=(10, 3))\n",
    "\n",
    "plt.subplot(1, 2, 1)\n",
    "plt.xlabel(\"label: \" + str(label), fontsize=20)\n",
    "img = img.reshape(28, 28)    #1次元配列を2次元配列に直す\n",
    "plt.tick_params(which='both',labelleft='off', labelbottom='off')    #軸の数字を消す\n",
    "plt.imshow(img, cmap = cm.Greys)    #白黒画像で表示\n",
    "\n",
    "plt.subplot(1, 2, 2)\n",
    "plt.bar(range(10), y, align = \"center\")    #棒グラフを表示\n",
    "plt.xticks(range(10))\n",
    "plt.xlabel(\"Number\", fontsize=15)\n",
    "plt.ylabel(\"Probablity\", fontsize=15)"
   ]
  },
  {
   "cell_type": "markdown",
   "metadata": {},
   "source": [
    "棒グラフの通り，数字が認識できていることが分かる．\n",
    "\n",
    "次に，テスト画像10000枚全ての分類を行い，このニューラルネットワークの精度を計測する．"
   ]
  },
  {
   "cell_type": "code",
   "execution_count": null,
   "metadata": {
    "code_folding": [],
    "scrolled": false
   },
   "outputs": [],
   "source": [
    "accuracy_cnt = 0    #正解回数\n",
    "for i in range(len(x)):\n",
    "    y = predict(network, x[i])\n",
    "    p = np.argmax(y) #最も確率の高い要素のインデックスを取得\n",
    "    if p == t[i]:\n",
    "        accuracy_cnt += 1\n",
    "        \n",
    "print(\"Trial:\" + str(len(x)))\n",
    "print(\"Correct: \" + str(accuracy_cnt))\n",
    "print(\"Wrong: \" + str(len(x) - accuracy_cnt))\n",
    "print(\"Accuracy:\" + str(float(accuracy_cnt) / len(x)))"
   ]
  },
  {
   "cell_type": "markdown",
   "metadata": {},
   "source": [
    "以上の結果により，認識精度は93.52%であることが分かる．"
   ]
  }
 ],
 "metadata": {
  "kernelspec": {
   "display_name": "Python 3",
   "language": "python",
   "name": "python3"
  },
  "language_info": {
   "codemirror_mode": {
    "name": "ipython",
    "version": 3
   },
   "file_extension": ".py",
   "mimetype": "text/x-python",
   "name": "python",
   "nbconvert_exporter": "python",
   "pygments_lexer": "ipython3",
   "version": "3.6.4"
  }
 },
 "nbformat": 4,
 "nbformat_minor": 2
}
