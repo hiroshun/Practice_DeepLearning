{
 "cells": [
  {
   "cell_type": "markdown",
   "metadata": {
    "heading_collapsed": true,
    "slideshow": {
     "slide_type": "slide"
    }
   },
   "source": [
    "# Ch2. Perceptron\n",
    "パーセプトロン\n",
    "\n",
    "---"
   ]
  },
  {
   "cell_type": "markdown",
   "metadata": {
    "hidden": true
   },
   "source": [
    "パーセプトロン(perceptron)…複数の入力信号(0 or 1)からひとつの信号を出力する．\n",
    "\n",
    "<img src=\"image\\simple perceptron.jpg\" width=\"200\" alt=\"simple perceptron\"/>\n",
    "\n",
    "パーセプトロンの出力値$y$は入力値$x_1,x_2$によって次のように決まる．\n",
    "\n",
    "\\begin{equation}y= \\left \\{\\begin{array}{l}0& (w_1x_1+w_2x_2\\leqq\\theta) \\\\1& (w_1x_1+w_2x_2>\\theta) \\\\\\end{array}\\right.\\end{equation}\n",
    "\n",
    "入力値$x$は$w$によって重み付けされ，出力値はその総和が$\\theta$を上回ったときに1となる．$\\theta$は閾値と呼ばれる．\n",
    "\n",
    "$b=-\\theta$とすると，\n",
    "\n",
    "\\begin{equation}y= \\left \\{\\begin{array}{l}0& (b+w_1x_1+w_2x_2\\leqq0) \\\\1& (b+w_1x_1+w_2x_2>0) \\\\\\end{array}\\right.\\end{equation}\n",
    "\n",
    "このとき，$w$を重み，$b$をバイアスという．\n",
    "\n",
    "この2入力パーセプトロンをPythonで実装する．"
   ]
  },
  {
   "cell_type": "code",
   "execution_count": 1,
   "metadata": {
    "hidden": true
   },
   "outputs": [],
   "source": [
    "import numpy as np\n",
    "\n",
    "def perceptron(x1, x2, w1, w2, b):\n",
    "    x = np.array([x1, x2])\n",
    "    w = np.array([w1, w2])\n",
    "    tmp = np.sum(w * x) + b   #配列の乗算によって重み付き和を計算\n",
    "    if tmp <= 0:\n",
    "        return 0\n",
    "    else:\n",
    "        return 1"
   ]
  },
  {
   "cell_type": "markdown",
   "metadata": {
    "hidden": true
   },
   "source": [
    "$w,b$の値を変えることによって，パーセプトロンで論理回路が実現できる．(組み合わせは無数に存在する．)\n",
    "\n",
    "|    |$w_1$|$w_2$|$b$ |\n",
    "|:--:|:---:|:---:|:--:|\n",
    "|AND |0.5  |0.5  |-0.7|\n",
    "|NAND|-0.5 |-0.5 |0.7 |\n",
    "|OR  |0.5  |0.5  |-0.2|"
   ]
  },
  {
   "cell_type": "code",
   "execution_count": 2,
   "metadata": {
    "code_folding": [],
    "hidden": true
   },
   "outputs": [],
   "source": [
    "def AND(x1, x2):\n",
    "    return perceptron(x1, x2, 0.5, 0.5, -0.7)\n",
    "\n",
    "def NAND(x1, x2):\n",
    "    return perceptron(x1, x2, -0.5, -0.5, 0.7)\n",
    "\n",
    "def OR(x1, x2):\n",
    "    return perceptron(x1, x2, 0.5, 0.5, -0.2)"
   ]
  },
  {
   "cell_type": "code",
   "execution_count": 3,
   "metadata": {
    "code_folding": [],
    "hidden": true
   },
   "outputs": [
    {
     "name": "stdout",
     "output_type": "stream",
     "text": [
      "AND( 0 , 0 )= 0   NAND( 0 , 0 )= 1   OR( 0 , 0 )= 0\n",
      "AND( 0 , 1 )= 0   NAND( 0 , 1 )= 1   OR( 0 , 1 )= 1\n",
      "AND( 1 , 0 )= 0   NAND( 1 , 0 )= 1   OR( 1 , 0 )= 1\n",
      "AND( 1 , 1 )= 1   NAND( 1 , 1 )= 0   OR( 1 , 1 )= 1\n"
     ]
    }
   ],
   "source": [
    "for x1 in [0, 1]:\n",
    "    for x2 in [0, 1]:\n",
    "        print(\"AND(\",x1,\",\",x2,\")=\",AND(x1,x2),\"  NAND(\",x1,\",\",x2,\")=\",NAND(x1,x2),\"  OR(\",x1,\",\",x2,\")=\",OR(x1,x2))"
   ]
  },
  {
   "cell_type": "markdown",
   "metadata": {
    "hidden": true
   },
   "source": [
    "---\n",
    "XORは，パラメータを変えても一つのパーセプトロンでは実現できない．  \n",
    "そこで，AND,NAND,ORを組み合わせる．\n",
    "<img src=\"image\\xor.jpg\" width=\"600\" alt=\"xor\"/>"
   ]
  },
  {
   "cell_type": "code",
   "execution_count": 4,
   "metadata": {
    "hidden": true
   },
   "outputs": [
    {
     "name": "stdout",
     "output_type": "stream",
     "text": [
      "XOR( 0 , 0 )= 0\n",
      "XOR( 0 , 1 )= 1\n",
      "XOR( 1 , 0 )= 1\n",
      "XOR( 1 , 1 )= 0\n"
     ]
    }
   ],
   "source": [
    "def XOR(x1, x2):\n",
    "    s1 = NAND(x1, x2)\n",
    "    s2 = OR(x1, x2)\n",
    "    return AND(s1, s2)\n",
    "\n",
    "for x1 in [0, 1]:\n",
    "    for x2 in [0, 1]:\n",
    "        print(\"XOR(\",x1,\",\",x2,\")=\",XOR(x1,x2))"
   ]
  },
  {
   "cell_type": "markdown",
   "metadata": {
    "hidden": true
   },
   "source": [
    "パーセプトロンで表すとこのようになる.\n",
    "<img src=\"image\\double perceptron.jpg\" width=\"300\" alt=\"double perceptron\"/>\n",
    "これを2層パーセプトロンと呼ぶ."
   ]
  }
 ],
 "metadata": {
  "kernelspec": {
   "display_name": "Python 3",
   "language": "python",
   "name": "python3"
  },
  "language_info": {
   "codemirror_mode": {
    "name": "ipython",
    "version": 3
   },
   "file_extension": ".py",
   "mimetype": "text/x-python",
   "name": "python",
   "nbconvert_exporter": "python",
   "pygments_lexer": "ipython3",
   "version": "3.6.4"
  }
 },
 "nbformat": 4,
 "nbformat_minor": 2
}
